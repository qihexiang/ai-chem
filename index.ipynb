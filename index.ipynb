{
 "cells": [
  {
   "cell_type": "markdown",
   "metadata": {
    "slideshow": {
     "slide_type": "slide"
    }
   },
   "source": [
    "# 人工智能与催化化学\n",
    "\n",
    "- 2024.04.24\n",
    "- 祁鹤翔"
   ]
  },
  {
   "cell_type": "markdown",
   "metadata": {
    "slideshow": {
     "slide_type": "slide"
    }
   },
   "source": [
    "## 什么是人工智能\n",
    "\n",
    "人工智能技术一直以来都是社会关注的热点技术之一，当我们提到人工智能这一概念的时候，背后涉及到的技术体系通常是错综复杂的，难以用一个统一的定义进行全面的描述。\n",
    "\n",
    "如果一定要给人工智能技术进行一个定义的话，作为一项软件技术，人工智能软件并不依靠人工编程的方式来解决问题，而是学习既有的经验建立模型来解决的。根据人工智能可以解决问题的领域，我们可以将人工智能进一步划分为：\n",
    "\n",
    "- 弱的人工智能：这类人工智能技术只能用于解决特定类别的问题，例如象棋AI、围棋AI、智能抠图、语音识别等技术\n",
    "- 强的人工智能：强人工智能又称通用人工智能技术，一般认为这类人工智能已经具备了和人类类似的认知、推理和决策的能力，目前热门的大语言模型（LLM）就属于这一范畴。\n",
    "\n",
    "那么，我们为什么需要使用人工智能呢？"
   ]
  },
  {
   "cell_type": "markdown",
   "metadata": {
    "slideshow": {
     "slide_type": "slide"
    }
   },
   "source": [
    "## 为什么研究和发展人工智能\n",
    "\n",
    "- 哲学/自然科学上的探索\n",
    "- 科学问题求解范式的演化"
   ]
  },
  {
   "cell_type": "markdown",
   "metadata": {
    "slideshow": {
     "slide_type": "subslide"
    }
   },
   "source": [
    "科学问题的求解范式：\n",
    "\n",
    "- 经验归纳\n",
    "- 理论建模\n",
    "- 计算模拟\n",
    "- 数据探索（？）"
   ]
  },
  {
   "cell_type": "markdown",
   "metadata": {
    "slideshow": {
     "slide_type": "slide"
    }
   },
   "source": [
    "## 三门开奖问题\n",
    "\n",
    "假设我们参加一个抽奖活动，规则如下：\n",
    "\n",
    "- 有A、B、C三扇门，其中一扇门背后藏有奖品\n",
    "- 当参与者选定其中一扇门后，活动的主持者会打开另外两扇门中没有奖品的一扇门\n",
    "- 此时，参与者可以选择是否要更换选中的门，然后开奖\n",
    "\n",
    "在第三步时，更换选中的门会使得中奖几率更大吗？\n",
    "\n",
    "![三门问题](./3doors.png)"
   ]
  },
  {
   "cell_type": "markdown",
   "metadata": {
    "slideshow": {
     "slide_type": "subslide"
    }
   },
   "source": [
    "通常而言，我们如果参加一个临时的这样的活动，大多是根据自己的经验或者感觉来判断的，例如“我感觉更换会运气好”、“我第一次做出的判断大多是正确的”这样的经验，但实际上这些经验在这个单次的问题中并没有什么实际的参考价值。"
   ]
  },
  {
   "cell_type": "markdown",
   "metadata": {
    "slideshow": {
     "slide_type": "subslide"
    }
   },
   "source": [
    "如果我们采用理论建模的方式来推导的话，在第一步，我们抽中有奖的门的概率时1/3，没有抽中的概率是2/3:\n",
    "\n",
    "- 那么更换门时中奖的期望为：$1/3*0+2/3*1=2/3$\n",
    "- 而选择不换门的中将期望则为$1/3*1+2/3*0=1/3$\n",
    "\n",
    "显然，更换门的中奖期望更大。不过，如果该活动更复杂一些，例如有更多的门的情形，理论推理就没有这么简单了。在现代高速计算机的辅助下，我们可以采用仿真方法来解决。"
   ]
  },
  {
   "cell_type": "code",
   "execution_count": 13,
   "metadata": {
    "slideshow": {
     "slide_type": "subslide"
    }
   },
   "outputs": [],
   "source": [
    "import random\n",
    "\n",
    "def door_prize(init_choice: int, change_door: bool) -> bool:\n",
    "    prize = random.randint(0, 2) # 随机分配奖品位置\n",
    "    doors = [0,1,2] # 生成0，1，2三个门\n",
    "    doors_can_open_by_host = [door for door in doors if door not in [prize, init_choice]] # 除去初始选中的门和有奖品的门，剩下的门可能被主持人打开\n",
    "    door_open_by_host = doors_can_open_by_host[random.randint(0, len(doors_can_open_by_host) - 1)] # 选择主持人要打开的门\n",
    "    doors.remove(door_open_by_host) # 打开没有奖品的门\n",
    "    final_choice = [door for door in doors if door != init_choice][0] if change_door else init_choice # 根据策略更换/不更换选择的门\n",
    "    return prize == final_choice # 判断是否获奖"
   ]
  },
  {
   "cell_type": "code",
   "execution_count": 14,
   "metadata": {
    "slideshow": {
     "slide_type": "subslide"
    }
   },
   "outputs": [
    {
     "name": "stdout",
     "output_type": "stream",
     "text": [
      "在1000次测试中，更换门获奖次数为672\n"
     ]
    }
   ],
   "source": [
    "change_and_win = 0\n",
    "for i in range(0,1000):\n",
    "    if door_prize(random.randint(0,2), True):\n",
    "        change_and_win += 1\n",
    "\n",
    "print(f\"在1000次测试中，更换门获奖次数为{change_and_win}\")"
   ]
  },
  {
   "cell_type": "code",
   "execution_count": 15,
   "metadata": {
    "slideshow": {
     "slide_type": "subslide"
    }
   },
   "outputs": [
    {
     "name": "stdout",
     "output_type": "stream",
     "text": [
      "在1000次测试中，不更换门获奖次数为316\n"
     ]
    }
   ],
   "source": [
    "unchange_and_win = 0\n",
    "for i in range(0,1000):\n",
    "    if door_prize(random.randint(0,2), False):\n",
    "        unchange_and_win += 1\n",
    "\n",
    "print(f\"在1000次测试中，不更换门获奖次数为{unchange_and_win}\")"
   ]
  },
  {
   "cell_type": "markdown",
   "metadata": {
    "slideshow": {
     "slide_type": "subslide"
    }
   },
   "source": [
    "我们没有讨论初始选择的门序号的影响，但是可以很简单的通过理论验证和计算模拟发现它并不影响结果。"
   ]
  },
  {
   "cell_type": "markdown",
   "metadata": {
    "slideshow": {
     "slide_type": "slide"
    }
   },
   "source": [
    "## 构建智能体\n",
    "\n",
    "那么，如果我们想要构建一个“人工智能”，希望它能够自行“总结经验”并最终得到一个最优的结论，我们应该如何做呢？\n",
    "\n",
    "逻辑推理实际上是非常复杂的事情，而最简单的智能模拟则更多是从经验上出发的。生物大多会选择经验上更加优势的选择，我们的“简单人工智能”也是这样："
   ]
  },
  {
   "cell_type": "code",
   "execution_count": 16,
   "metadata": {
    "slideshow": {
     "slide_type": "subslide"
    }
   },
   "outputs": [
    {
     "name": "stdout",
     "output_type": "stream",
     "text": [
      "第10轮的换门倾向性为：83.33333333333334%\n",
      "第20轮的换门倾向性为：90.9090909090909%\n",
      "第30轮的换门倾向性为：88.23529411764706%\n",
      "第40轮的换门倾向性为：91.30434782608695%\n",
      "第50轮的换门倾向性为：93.54838709677419%\n",
      "第60轮的换门倾向性为：94.5945945945946%\n",
      "第70轮的换门倾向性为：95.45454545454545%\n",
      "第80轮的换门倾向性为：96.07843137254902%\n",
      "第90轮的换门倾向性为：96.66666666666667%\n",
      "第100轮的换门倾向性为：96.92307692307692%\n",
      "第110轮的换门倾向性为：97.2972972972973%\n",
      "第120轮的换门倾向性为：97.5609756097561%\n",
      "第130轮的换门倾向性为：97.72727272727273%\n",
      "第140轮的换门倾向性为：97.82608695652173%\n",
      "第150轮的换门倾向性为：98.01980198019803%\n",
      "第160轮的换门倾向性为：98.18181818181819%\n",
      "第170轮的换门倾向性为：98.30508474576271%\n",
      "第180轮的换门倾向性为：98.3739837398374%\n",
      "第190轮的换门倾向性为：98.44961240310077%\n",
      "第200轮的换门倾向性为：98.51851851851852%\n"
     ]
    },
    {
     "data": {
      "image/png": "[encoded data removed]",
      "text/plain": [
       "<Figure size 640x480 with 1 Axes>"
      ]
     },
     "metadata": {},
     "output_type": "display_data"
    }
   ],
   "source": [
    "import matplotlib.pyplot as plt\n",
    "\n",
    "change_and_win = 1\n",
    "unchange_and_win = 1\n",
    "\n",
    "for i in range(0, 200):\n",
    "    division_point = change_and_win / (change_and_win + unchange_and_win)\n",
    "    choice = random.random()\n",
    "    change_door = choice <= division_point\n",
    "    result = door_prize(1, change_door)\n",
    "    if result and change_door:\n",
    "        change_and_win += 1\n",
    "    if result and not change_door:\n",
    "        unchange_and_win += 1\n",
    "    if i % 10 == 9:\n",
    "        print(f\"第{i+1}轮的换门倾向性为：{division_point*100}%\")\n",
    "    plt.scatter(i, division_point, c=\"b\")\n",
    "\n",
    "plt.show()"
   ]
  },
  {
   "cell_type": "markdown",
   "metadata": {
    "slideshow": {
     "slide_type": "subslide"
    }
   },
   "source": [
    "在这个例子中，我们实际上只控制了一个1bit的二进制变量（是/否换门），该过程实际上也只受到该变量的影响。\n",
    "\n",
    "实际场景下，我们可能会遇到一些难以建模、难以计算模拟的问题，例如：\n",
    "\n",
    "- 股市的预测\n",
    "- 物体的识别\n",
    "- 催化剂性能的预测\n",
    "- ……\n",
    "\n",
    "针对这类问题，传统提到的范式或许能够从某些方面对问题进行解答，但这些问题实际上受到大量变量错综复杂的影响，最终建立的理论模型可能只能在极小的范围内应用，而计算仿真则需要支付极大的计算代价。"
   ]
  }
 ],
 "metadata": {
  "kernelspec": {
   "display_name": "Python 3 (ipykernel)",
   "language": "python",
   "name": "python3"
  },
  "language_info": {
   "codemirror_mode": {
    "name": "ipython",
    "version": 3
   },
   "file_extension": ".py",
   "mimetype": "text/x-python",
   "name": "python",
   "nbconvert_exporter": "python",
   "pygments_lexer": "ipython3",
   "version": "3.12.2"
  }
 },
 "nbformat": 4,
 "nbformat_minor": 4
}
